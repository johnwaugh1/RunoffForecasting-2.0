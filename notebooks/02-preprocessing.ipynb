{
 "cells": [
  {
   "cell_type": "code",
   "execution_count": null,
   "id": "5e6b758d",
   "metadata": {},
   "outputs": [],
   "source": [
    "import pandas as pd\n",
    "import numpy as np\n",
    "from pathlib import Path\n",
    "from sklearn.preprocessing import MinMaxScaler"
   ]
  },
  {
   "cell_type": "markdown",
   "id": "76c94f6c",
   "metadata": {},
   "source": [
    "Load Cleaned Data"
   ]
  },
  {
   "cell_type": "code",
   "execution_count": null,
   "id": "a594ee8d",
   "metadata": {},
   "outputs": [],
   "source": [
    "processed_dir = Path(\"../data/processed\")\n",
    "station1_nwm = pd.read_parquet(processed_dir / \"station1_nwm.parquet\")\n",
    "station1_usgs = pd.read_parquet(processed_dir / \"station1_usgs.parquet\")\n",
    "station2_nwm = pd.read_parquet(processed_dir / \"station2_nwm.parquet\")\n",
    "station2_usgs = pd.read_parquet(processed_dir / \"station2_usgs.parquet\")"
   ]
  }
 ],
 "metadata": {
  "language_info": {
   "name": "python"
  }
 },
 "nbformat": 4,
 "nbformat_minor": 5
}
