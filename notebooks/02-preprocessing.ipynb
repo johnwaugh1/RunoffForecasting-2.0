{
 "cells": [
  {
   "cell_type": "code",
   "execution_count": 1,
   "id": "5e6b758d",
   "metadata": {},
   "outputs": [],
   "source": [
    "import pandas as pd\n",
    "import numpy as np\n",
    "from pathlib import Path\n",
    "from sklearn.preprocessing import MinMaxScaler"
   ]
  },
  {
   "cell_type": "markdown",
   "id": "76c94f6c",
   "metadata": {},
   "source": [
    "Load Cleaned Data"
   ]
  },
  {
   "cell_type": "code",
   "execution_count": 2,
   "id": "a594ee8d",
   "metadata": {},
   "outputs": [],
   "source": [
    "processed_dir = Path(\"../data/processed\")\n",
    "station1_nwm = pd.read_parquet(processed_dir / \"station1_nwm.parquet\")\n",
    "station1_usgs = pd.read_parquet(processed_dir / \"station1_usgs.parquet\")\n",
    "station2_nwm = pd.read_parquet(processed_dir / \"station2_nwm.parquet\")\n",
    "station2_usgs = pd.read_parquet(processed_dir / \"station2_usgs.parquet\")"
   ]
  },
  {
   "cell_type": "markdown",
   "id": "de2faff8",
   "metadata": {},
   "source": [
    "Defining the Processing Function"
   ]
  },
  {
   "cell_type": "code",
   "execution_count": 3,
   "id": "7363bfee",
   "metadata": {},
   "outputs": [],
   "source": [
    "def create_aligned_dataframe(nwm_df, usgs_df):\n",
    "    \"\"\"Aligns NWM forecasts with USGS observations and calculates error.\"\"\"\n",
    "    # Ensure data is sorted by time for merge_asof\n",
    "    nwm_df = nwm_df.sort_values(by='model_output_valid_time')\n",
    "    usgs_df = usgs_df.sort_index()\n",
    "\n",
    "    # Align NWM forecasts to the closest hourly USGS observation\n",
    "    aligned_df = pd.merge_asof(\n",
    "        left=nwm_df,\n",
    "        right=usgs_df,\n",
    "        left_on='model_output_valid_time',\n",
    "        right_index=True,\n",
    "        direction='nearest', # Find the closest observation in time\n",
    "        tolerance=pd.Timedelta(minutes=30) # Within a 30-minute window\n",
    "    )\n",
    "\n",
    "    # Clean up the merged dataframe\n",
    "    aligned_df.dropna(subset=['USGSFlowValue'], inplace=True) # Remove forecasts with no matching observation\n",
    "    aligned_df = aligned_df.rename(columns={\n",
    "        'streamflow_value': 'NWM_streamflow',\n",
    "        'USGSFlowValue': 'USGS_streamflow'\n",
    "    })\n",
    "    \n",
    "    return aligned_df"
   ]
  },
  {
   "cell_type": "markdown",
   "id": "41b8968d",
   "metadata": {},
   "source": [
    "Process Both Stations"
   ]
  },
  {
   "cell_type": "code",
   "execution_count": 4,
   "id": "85d7b189",
   "metadata": {},
   "outputs": [
    {
     "name": "stdout",
     "output_type": "stream",
     "text": [
      "Data alignment complete.\n"
     ]
    },
    {
     "data": {
      "text/html": [
       "<div>\n",
       "<style scoped>\n",
       "    .dataframe tbody tr th:only-of-type {\n",
       "        vertical-align: middle;\n",
       "    }\n",
       "\n",
       "    .dataframe tbody tr th {\n",
       "        vertical-align: top;\n",
       "    }\n",
       "\n",
       "    .dataframe thead th {\n",
       "        text-align: right;\n",
       "    }\n",
       "</style>\n",
       "<table border=\"1\" class=\"dataframe\">\n",
       "  <thead>\n",
       "    <tr style=\"text-align: right;\">\n",
       "      <th></th>\n",
       "      <th>NWM_version_number</th>\n",
       "      <th>model_initialization_time</th>\n",
       "      <th>model_output_valid_time</th>\n",
       "      <th>NWM_streamflow</th>\n",
       "      <th>streamID</th>\n",
       "      <th>lead_time</th>\n",
       "      <th>USGS_streamflow</th>\n",
       "      <th>USGS_GageID</th>\n",
       "    </tr>\n",
       "  </thead>\n",
       "  <tbody>\n",
       "    <tr>\n",
       "      <th>0</th>\n",
       "      <td>v2.1</td>\n",
       "      <td>2021-04-21 00:00:00</td>\n",
       "      <td>2021-04-21 01:00:00+00:00</td>\n",
       "      <td>0.45</td>\n",
       "      <td>20380357</td>\n",
       "      <td>1.0</td>\n",
       "      <td>0.19</td>\n",
       "      <td>A</td>\n",
       "    </tr>\n",
       "    <tr>\n",
       "      <th>18</th>\n",
       "      <td>v2.1</td>\n",
       "      <td>2021-04-21 01:00:00</td>\n",
       "      <td>2021-04-21 02:00:00+00:00</td>\n",
       "      <td>0.44</td>\n",
       "      <td>20380357</td>\n",
       "      <td>1.0</td>\n",
       "      <td>0.18</td>\n",
       "      <td>A</td>\n",
       "    </tr>\n",
       "    <tr>\n",
       "      <th>1</th>\n",
       "      <td>v2.1</td>\n",
       "      <td>2021-04-21 00:00:00</td>\n",
       "      <td>2021-04-21 02:00:00+00:00</td>\n",
       "      <td>0.84</td>\n",
       "      <td>20380357</td>\n",
       "      <td>2.0</td>\n",
       "      <td>0.18</td>\n",
       "      <td>A</td>\n",
       "    </tr>\n",
       "    <tr>\n",
       "      <th>2</th>\n",
       "      <td>v2.1</td>\n",
       "      <td>2021-04-21 00:00:00</td>\n",
       "      <td>2021-04-21 03:00:00+00:00</td>\n",
       "      <td>1.51</td>\n",
       "      <td>20380357</td>\n",
       "      <td>3.0</td>\n",
       "      <td>0.18</td>\n",
       "      <td>A</td>\n",
       "    </tr>\n",
       "    <tr>\n",
       "      <th>36</th>\n",
       "      <td>v2.1</td>\n",
       "      <td>2021-04-21 02:00:00</td>\n",
       "      <td>2021-04-21 03:00:00+00:00</td>\n",
       "      <td>0.43</td>\n",
       "      <td>20380357</td>\n",
       "      <td>1.0</td>\n",
       "      <td>0.18</td>\n",
       "      <td>A</td>\n",
       "    </tr>\n",
       "  </tbody>\n",
       "</table>\n",
       "</div>"
      ],
      "text/plain": [
       "   NWM_version_number model_initialization_time   model_output_valid_time  \\\n",
       "0                v2.1       2021-04-21 00:00:00 2021-04-21 01:00:00+00:00   \n",
       "18               v2.1       2021-04-21 01:00:00 2021-04-21 02:00:00+00:00   \n",
       "1                v2.1       2021-04-21 00:00:00 2021-04-21 02:00:00+00:00   \n",
       "2                v2.1       2021-04-21 00:00:00 2021-04-21 03:00:00+00:00   \n",
       "36               v2.1       2021-04-21 02:00:00 2021-04-21 03:00:00+00:00   \n",
       "\n",
       "    NWM_streamflow  streamID  lead_time  USGS_streamflow USGS_GageID  \n",
       "0             0.45  20380357        1.0             0.19           A  \n",
       "18            0.44  20380357        1.0             0.18           A  \n",
       "1             0.84  20380357        2.0             0.18           A  \n",
       "2             1.51  20380357        3.0             0.18           A  \n",
       "36            0.43  20380357        1.0             0.18           A  "
      ]
     },
     "execution_count": 4,
     "metadata": {},
     "output_type": "execute_result"
    }
   ],
   "source": [
    "# Ensure model_output_valid_time is timezone-aware to match USGS index\n",
    "station1_nwm['model_output_valid_time'] = station1_nwm['model_output_valid_time'].dt.tz_localize('UTC')\n",
    "station2_nwm['model_output_valid_time'] = station2_nwm['model_output_valid_time'].dt.tz_localize('UTC')\n",
    "\n",
    "station1_df = create_aligned_dataframe(station1_nwm, station1_usgs)\n",
    "station2_df = create_aligned_dataframe(station2_nwm, station2_usgs)\n",
    "\n",
    "print(\"Data alignment complete.\")\n",
    "station1_df.head()"
   ]
  },
  {
   "cell_type": "markdown",
   "id": "4a3d2c95",
   "metadata": {},
   "source": [
    "Feature Engineering"
   ]
  },
  {
   "cell_type": "code",
   "execution_count": 5,
   "id": "27adbb61",
   "metadata": {},
   "outputs": [
    {
     "name": "stdout",
     "output_type": "stream",
     "text": [
      "Feature engineering complete.\n"
     ]
    },
    {
     "data": {
      "text/html": [
       "<div>\n",
       "<style scoped>\n",
       "    .dataframe tbody tr th:only-of-type {\n",
       "        vertical-align: middle;\n",
       "    }\n",
       "\n",
       "    .dataframe tbody tr th {\n",
       "        vertical-align: top;\n",
       "    }\n",
       "\n",
       "    .dataframe thead th {\n",
       "        text-align: right;\n",
       "    }\n",
       "</style>\n",
       "<table border=\"1\" class=\"dataframe\">\n",
       "  <thead>\n",
       "    <tr style=\"text-align: right;\">\n",
       "      <th></th>\n",
       "      <th>error</th>\n",
       "      <th>NWM_streamflow</th>\n",
       "      <th>lead_time</th>\n",
       "      <th>month</th>\n",
       "      <th>day_of_year</th>\n",
       "      <th>hour</th>\n",
       "    </tr>\n",
       "    <tr>\n",
       "      <th>model_output_valid_time</th>\n",
       "      <th></th>\n",
       "      <th></th>\n",
       "      <th></th>\n",
       "      <th></th>\n",
       "      <th></th>\n",
       "      <th></th>\n",
       "    </tr>\n",
       "  </thead>\n",
       "  <tbody>\n",
       "    <tr>\n",
       "      <th>2021-04-21 01:00:00+00:00</th>\n",
       "      <td>0.26</td>\n",
       "      <td>0.45</td>\n",
       "      <td>1.0</td>\n",
       "      <td>4</td>\n",
       "      <td>111</td>\n",
       "      <td>1</td>\n",
       "    </tr>\n",
       "    <tr>\n",
       "      <th>2021-04-21 02:00:00+00:00</th>\n",
       "      <td>0.26</td>\n",
       "      <td>0.44</td>\n",
       "      <td>1.0</td>\n",
       "      <td>4</td>\n",
       "      <td>111</td>\n",
       "      <td>2</td>\n",
       "    </tr>\n",
       "    <tr>\n",
       "      <th>2021-04-21 02:00:00+00:00</th>\n",
       "      <td>0.66</td>\n",
       "      <td>0.84</td>\n",
       "      <td>2.0</td>\n",
       "      <td>4</td>\n",
       "      <td>111</td>\n",
       "      <td>2</td>\n",
       "    </tr>\n",
       "    <tr>\n",
       "      <th>2021-04-21 03:00:00+00:00</th>\n",
       "      <td>1.33</td>\n",
       "      <td>1.51</td>\n",
       "      <td>3.0</td>\n",
       "      <td>4</td>\n",
       "      <td>111</td>\n",
       "      <td>3</td>\n",
       "    </tr>\n",
       "    <tr>\n",
       "      <th>2021-04-21 03:00:00+00:00</th>\n",
       "      <td>0.25</td>\n",
       "      <td>0.43</td>\n",
       "      <td>1.0</td>\n",
       "      <td>4</td>\n",
       "      <td>111</td>\n",
       "      <td>3</td>\n",
       "    </tr>\n",
       "  </tbody>\n",
       "</table>\n",
       "</div>"
      ],
      "text/plain": [
       "                           error  NWM_streamflow  lead_time  month  \\\n",
       "model_output_valid_time                                              \n",
       "2021-04-21 01:00:00+00:00   0.26            0.45        1.0      4   \n",
       "2021-04-21 02:00:00+00:00   0.26            0.44        1.0      4   \n",
       "2021-04-21 02:00:00+00:00   0.66            0.84        2.0      4   \n",
       "2021-04-21 03:00:00+00:00   1.33            1.51        3.0      4   \n",
       "2021-04-21 03:00:00+00:00   0.25            0.43        1.0      4   \n",
       "\n",
       "                           day_of_year  hour  \n",
       "model_output_valid_time                       \n",
       "2021-04-21 01:00:00+00:00          111     1  \n",
       "2021-04-21 02:00:00+00:00          111     2  \n",
       "2021-04-21 02:00:00+00:00          111     2  \n",
       "2021-04-21 03:00:00+00:00          111     3  \n",
       "2021-04-21 03:00:00+00:00          111     3  "
      ]
     },
     "execution_count": 5,
     "metadata": {},
     "output_type": "execute_result"
    }
   ],
   "source": [
    "def create_features(df):\n",
    "    \"\"\"Creates the target variable and input features.\"\"\"\n",
    "    # Calculate our target variable: the error\n",
    "    df['error'] = df['NWM_streamflow'] - df['USGS_streamflow']\n",
    "    \n",
    "    # Create time-based features from the forecast valid time\n",
    "    valid_time = df['model_output_valid_time']\n",
    "    df['month'] = valid_time.dt.month\n",
    "    df['day_of_year'] = valid_time.dt.dayofyear\n",
    "    df['hour'] = valid_time.dt.hour\n",
    "    \n",
    "    # Select the columns to be used for modeling\n",
    "    # The model will learn to predict the 'error' based on the other features\n",
    "    feature_cols = [\n",
    "        'error', # Included here for easy splitting, will be separated later\n",
    "        'NWM_streamflow', \n",
    "        'lead_time', \n",
    "        'month', \n",
    "        'day_of_year',\n",
    "        'hour'\n",
    "    ]\n",
    "    \n",
    "    df_featured = df[['model_output_valid_time'] + feature_cols].set_index('model_output_valid_time')\n",
    "    \n",
    "    return df_featured\n",
    "\n",
    "station1_featured = create_features(station1_df)\n",
    "station2_featured = create_features(station2_df)\n",
    "\n",
    "print(\"Feature engineering complete.\")\n",
    "station1_featured.head()"
   ]
  },
  {
   "cell_type": "markdown",
   "id": "39cf64f2",
   "metadata": {},
   "source": [
    "Split Data into Train and Test Sets by Date"
   ]
  },
  {
   "cell_type": "code",
   "execution_count": 6,
   "id": "94c991d2",
   "metadata": {},
   "outputs": [
    {
     "name": "stdout",
     "output_type": "stream",
     "text": [
      "Station 1 - Train shape: (235269, 6), Test shape: (90836, 6)\n",
      "Station 2 - Train shape: (219249, 6), Test shape: (90836, 6)\n"
     ]
    }
   ],
   "source": [
    "train_end_date = '2022-09-30 23:59:59'\n",
    "test_start_date = '2022-10-01 00:00:00'\n",
    "\n",
    "# Split Station 1\n",
    "train_df1 = station1_featured.loc[:train_end_date]\n",
    "test_df1 = station1_featured.loc[test_start_date:]\n",
    "\n",
    "# Split Station 2\n",
    "train_df2 = station2_featured.loc[:train_end_date]\n",
    "test_df2 = station2_featured.loc[test_start_date:]\n",
    "\n",
    "print(f\"Station 1 - Train shape: {train_df1.shape}, Test shape: {test_df1.shape}\")\n",
    "print(f\"Station 2 - Train shape: {train_df2.shape}, Test shape: {test_df2.shape}\")\n"
   ]
  },
  {
   "cell_type": "markdown",
   "id": "588f5b3b",
   "metadata": {},
   "source": [
    "Scale the Data"
   ]
  },
  {
   "cell_type": "code",
   "execution_count": 7,
   "id": "06ab654a",
   "metadata": {},
   "outputs": [
    {
     "name": "stdout",
     "output_type": "stream",
     "text": [
      "\n",
      "Data scaling complete. The scaler was fit on the training data only.\n"
     ]
    }
   ],
   "source": [
    "# Initialize a scaler for each station\n",
    "scaler1 = MinMaxScaler()\n",
    "scaler2 = MinMaxScaler()\n",
    "\n",
    "# Fit the scaler ONLY on the training data and transform both train and test data\n",
    "train_scaled1 = scaler1.fit_transform(train_df1)\n",
    "test_scaled1 = scaler1.transform(test_df1)\n",
    "\n",
    "train_scaled2 = scaler2.fit_transform(train_df2)\n",
    "test_scaled2 = scaler2.transform(test_df2)\n",
    "\n",
    "print(\"\\nData scaling complete. The scaler was fit on the training data only.\")"
   ]
  },
  {
   "cell_type": "markdown",
   "id": "b9d390d9",
   "metadata": {},
   "source": [
    "Validate and Clean Scaled Data"
   ]
  },
  {
   "cell_type": "code",
   "execution_count": 8,
   "id": "ef4efcad",
   "metadata": {},
   "outputs": [
    {
     "name": "stdout",
     "output_type": "stream",
     "text": [
      "WARNING: Found and removed 1 rows with NaN/inf values (0.00% of data).\n",
      "Data validation successful. No NaN/inf values found.\n",
      "Data validation successful. No NaN/inf values found.\n",
      "Data validation successful. No NaN/inf values found.\n"
     ]
    }
   ],
   "source": [
    "def clean_scaled_data(scaled_data, original_columns):\n",
    "    \"\"\"\n",
    "    Finds and removes rows containing NaN or infinity from scaled data.\n",
    "    \"\"\"\n",
    "    df = pd.DataFrame(scaled_data, columns=original_columns)\n",
    "    initial_rows = len(df)\n",
    "    \n",
    "    # Check for NaN or infinity\n",
    "    invalid_rows_mask = df.isin([np.nan, np.inf, -np.inf]).any(axis=1)\n",
    "    \n",
    "    if invalid_rows_mask.any():\n",
    "        num_invalid = invalid_rows_mask.sum()\n",
    "        print(f\"WARNING: Found and removed {num_invalid} rows with NaN/inf values ({((num_invalid/initial_rows)*100):.2f}% of data).\")\n",
    "        # Keep only the valid rows\n",
    "        cleaned_data = scaled_data[~invalid_rows_mask]\n",
    "        return cleaned_data\n",
    "    else:\n",
    "        print(\"Data validation successful. No NaN/inf values found.\")\n",
    "        return scaled_data\n",
    "\n",
    "# Clean the data for each set\n",
    "train_scaled1 = clean_scaled_data(train_scaled1, train_df1.columns)\n",
    "test_scaled1 = clean_scaled_data(test_scaled1, test_df1.columns)\n",
    "train_scaled2 = clean_scaled_data(train_scaled2, train_df2.columns)\n",
    "test_scaled2 = clean_scaled_data(test_scaled2, test_df2.columns)"
   ]
  },
  {
   "cell_type": "markdown",
   "id": "cb6cd862",
   "metadata": {},
   "source": [
    "Create Sequences"
   ]
  },
  {
   "cell_type": "code",
   "execution_count": 9,
   "id": "fb5bd334",
   "metadata": {},
   "outputs": [
    {
     "name": "stdout",
     "output_type": "stream",
     "text": [
      "Sequence creation complete. Example shape for Station 1 Training X: (235244, 24, 6)\n",
      "This means: (235244 samples, 24 timesteps/hours, 6 features)\n"
     ]
    }
   ],
   "source": [
    "def create_sequences(data, lookback, target_col_index):\n",
    "    \"\"\"Reshapes data into sequences for time series forecasting.\"\"\"\n",
    "    X, y = [], []\n",
    "    \n",
    "    for i in range(len(data) - lookback):\n",
    "        # The input sequence is the 'lookback' window of all features\n",
    "        X.append(data[i:(i + lookback)])\n",
    "        \n",
    "        # The target is the 'error' value at the end of the window\n",
    "        y.append(data[i + lookback, target_col_index])\n",
    "        \n",
    "    return np.array(X), np.array(y)\n",
    "\n",
    "# Define the lookback window (e.g., use the last 24 hours of data to predict the next hour)\n",
    "LOOKBACK = 24 \n",
    "\n",
    "# Find the index of our 'error' column (it's the first column, so index = 0)\n",
    "target_col_idx = train_df1.columns.get_loc('error') \n",
    "\n",
    "# Create sequences for Station 1\n",
    "X_train1, y_train1 = create_sequences(train_scaled1, LOOKBACK, target_col_idx)\n",
    "X_test1, y_test1 = create_sequences(test_scaled1, LOOKBACK, target_col_idx)\n",
    "\n",
    "# Create sequences for Station 2\n",
    "X_train2, y_train2 = create_sequences(train_scaled2, LOOKBACK, target_col_idx)\n",
    "X_test2, y_test2 = create_sequences(test_scaled2, LOOKBACK, target_col_idx)\n",
    "\n",
    "print(f\"Sequence creation complete. Example shape for Station 1 Training X: {X_train1.shape}\")\n",
    "print(f\"This means: ({X_train1.shape[0]} samples, {X_train1.shape[1]} timesteps/hours, {X_train1.shape[2]} features)\")"
   ]
  },
  {
   "cell_type": "markdown",
   "id": "88a52d85",
   "metadata": {},
   "source": [
    "Save Final Processed Data"
   ]
  },
  {
   "cell_type": "code",
   "execution_count": 10,
   "id": "fab8d2d1",
   "metadata": {},
   "outputs": [
    {
     "name": "stdout",
     "output_type": "stream",
     "text": [
      "\n",
      "Final data saved to ..\\data\\processed\n"
     ]
    }
   ],
   "source": [
    "output_dir = Path(\"../data/processed\")\n",
    "np.savez(output_dir / 'station1_processed_for_modeling.npz', X_train=X_train1, y_train=y_train1, X_test=X_test1, y_test=y_test1)\n",
    "np.savez(output_dir / 'station2_processed_for_modeling.npz', X_train=X_train2, y_train=y_train2, X_test=X_test2, y_test=y_test2)\n",
    "\n",
    "# We also need to save the scalers to inverse the transformation later\n",
    "import pickle\n",
    "with open(output_dir / 'scaler_station1.pkl', 'wb') as f:\n",
    "    pickle.dump(scaler1, f)\n",
    "with open(output_dir / 'scaler_station2.pkl', 'wb') as f:\n",
    "    pickle.dump(scaler2, f)\n",
    "    \n",
    "print(f\"\\nFinal data saved to {output_dir}\")"
   ]
  }
 ],
 "metadata": {
  "kernelspec": {
   "display_name": "Python 3",
   "language": "python",
   "name": "python3"
  },
  "language_info": {
   "codemirror_mode": {
    "name": "ipython",
    "version": 3
   },
   "file_extension": ".py",
   "mimetype": "text/x-python",
   "name": "python",
   "nbconvert_exporter": "python",
   "pygments_lexer": "ipython3",
   "version": "3.12.10"
  }
 },
 "nbformat": 4,
 "nbformat_minor": 5
}
